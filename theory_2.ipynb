{
 "cells": [
  {
   "cell_type": "code",
   "execution_count": 1,
   "metadata": {},
   "outputs": [],
   "source": [
    "import numpy as np\n",
    "import pandas as pd"
   ]
  },
  {
   "cell_type": "code",
   "execution_count": 2,
   "metadata": {},
   "outputs": [],
   "source": [
    "#question 8\n",
    "class Member:\n",
    "    def __init__(self,name,age,membership_type,membership_status):\n",
    "        self._name = name\n",
    "        self._age = age\n",
    "        self._membership_type = membership_type\n",
    "        self._membership_status = membership_status\n",
    "    def cancel_membership(self):\n",
    "        self._membership_status = False\n",
    "    def renew_membership(self,position):\n",
    "        self._membership_type = position"
   ]
  },
  {
   "cell_type": "code",
   "execution_count": 3,
   "metadata": {},
   "outputs": [],
   "source": [
    "a = Member(\"Ram\",45,\"head\",True)"
   ]
  },
  {
   "cell_type": "code",
   "execution_count": 9,
   "metadata": {},
   "outputs": [],
   "source": [
    "class FamilyMember(Member):\n",
    "    def __init__(self,name,age,membership_type,membership_status):\n",
    "        super().__init__(name,age,membership_type,membership_status)\n",
    "        self._name = name\n",
    "        self._age = age\n",
    "        self._membership_type = membership_type\n",
    "        self._membership_status = membership_status"
   ]
  },
  {
   "cell_type": "code",
   "execution_count": 10,
   "metadata": {},
   "outputs": [],
   "source": [
    "g = FamilyMember(\"gaura\",10,\"president\",True)"
   ]
  },
  {
   "cell_type": "code",
   "execution_count": 16,
   "metadata": {},
   "outputs": [],
   "source": [
    "#Question 9\n",
    "class Event:\n",
    "    def __init__(self,name,time,location,attention):\n",
    "        self._name = name\n",
    "        self._time = time\n",
    "        self._location  = location\n",
    "        self.__attention = attention\n",
    "    \n",
    "    def add_attendance(self,new_attendance):\n",
    "        self.__attention    = self.__attention + new_attendance\n",
    "    def get_attention(self):\n",
    "        return self.__attention\n",
    "    def remove_attendance(self,num):\n",
    "        self.__attention-=num\n"
   ]
  },
  {
   "cell_type": "code",
   "execution_count": 17,
   "metadata": {},
   "outputs": [],
   "source": [
    "holy = Event(\"Holy\",\"10am\",\"collage\",20)\n"
   ]
  },
  {
   "cell_type": "code",
   "execution_count": 31,
   "metadata": {},
   "outputs": [],
   "source": [
    "class PrivateEvent(Event):\n",
    "    def __init__(self, name, time, location, attention):\n",
    "        super().__init__(name, time, location, attention)\n",
    "\n",
    "class PublicEvent(Event):\n",
    "    def __init__(self, name, time, location, attention):\n",
    "        super().__init__(name, time, location, attention)"
   ]
  },
  {
   "cell_type": "code",
   "execution_count": 32,
   "metadata": {},
   "outputs": [],
   "source": [
    "reception= PrivateEvent(\"reception\",\"night\",\"kochi\",45)"
   ]
  },
  {
   "cell_type": "code",
   "execution_count": 33,
   "metadata": {},
   "outputs": [
    {
     "data": {
      "text/plain": [
       "45"
      ]
     },
     "execution_count": 33,
     "metadata": {},
     "output_type": "execute_result"
    }
   ],
   "source": [
    "reception.get_attention()"
   ]
  },
  {
   "cell_type": "code",
   "execution_count": 34,
   "metadata": {},
   "outputs": [],
   "source": [
    "#question 10\n",
    "class Flite:\n",
    "    def __init__(self,number,departure_arrival,departure_arrival_time,Avilable_sets):\n",
    "        self._number = number\n",
    "        self._departure_arrival = departure_arrival\n",
    "        self._departure_arrival_time = departure_arrival_time\n",
    "        self.__Avilable_sets  = Avilable_sets\n",
    "    def book_sets(self):\n",
    "        self.__Avilable_sets -=1\n",
    "    def cancel_tikets(self):\n",
    "        self.__Avilable_sets +=1\n",
    "    def get_sets(self):\n",
    "        return self.__Avilable_sets"
   ]
  },
  {
   "cell_type": "code",
   "execution_count": 35,
   "metadata": {},
   "outputs": [],
   "source": [
    "aircan = Flite(324423,\"cttc->rourkela\",\"10am->10pm\",50)"
   ]
  },
  {
   "cell_type": "code",
   "execution_count": 36,
   "metadata": {},
   "outputs": [],
   "source": [
    "aircan.book_sets()"
   ]
  },
  {
   "cell_type": "code",
   "execution_count": 37,
   "metadata": {},
   "outputs": [
    {
     "data": {
      "text/plain": [
       "49"
      ]
     },
     "execution_count": 37,
     "metadata": {},
     "output_type": "execute_result"
    }
   ],
   "source": [
    "aircan.get_sets()"
   ]
  },
  {
   "cell_type": "code",
   "execution_count": 38,
   "metadata": {},
   "outputs": [],
   "source": [
    "class  DomesticFlight(Flite):\n",
    "    def __init__(self, number, departure_arrival, departure_arrival_time, Avilable_sets):\n",
    "        super().__init__(number, departure_arrival, departure_arrival_time, Avilable_sets)\n",
    "\n",
    "class InternationalFlit(Flite):\n",
    "    def __init__(self, number, departure_arrival, departure_arrival_time, Avilable_sets):\n",
    "        super().__init__(number, departure_arrival, departure_arrival_time, Avilable_sets)"
   ]
  },
  {
   "cell_type": "code",
   "execution_count": 11,
   "metadata": {},
   "outputs": [],
   "source": [
    "#question 24\n",
    "data = {\n",
    "    \"accuntancy\":[45,70,65,30,90,40,50,75,85,60],\n",
    "    \"statistics\":[35,90,70,40,95,40,60,80,80,50]\n",
    "}\n",
    "df =pd.DataFrame(data)"
   ]
  },
  {
   "cell_type": "code",
   "execution_count": 14,
   "metadata": {},
   "outputs": [
    {
     "data": {
      "text/html": [
       "<div>\n",
       "<style scoped>\n",
       "    .dataframe tbody tr th:only-of-type {\n",
       "        vertical-align: middle;\n",
       "    }\n",
       "\n",
       "    .dataframe tbody tr th {\n",
       "        vertical-align: top;\n",
       "    }\n",
       "\n",
       "    .dataframe thead th {\n",
       "        text-align: right;\n",
       "    }\n",
       "</style>\n",
       "<table border=\"1\" class=\"dataframe\">\n",
       "  <thead>\n",
       "    <tr style=\"text-align: right;\">\n",
       "      <th></th>\n",
       "      <th>accuntancy</th>\n",
       "      <th>statistics</th>\n",
       "    </tr>\n",
       "  </thead>\n",
       "  <tbody>\n",
       "    <tr>\n",
       "      <th>accuntancy</th>\n",
       "      <td>1.000000</td>\n",
       "      <td>0.903118</td>\n",
       "    </tr>\n",
       "    <tr>\n",
       "      <th>statistics</th>\n",
       "      <td>0.903118</td>\n",
       "      <td>1.000000</td>\n",
       "    </tr>\n",
       "  </tbody>\n",
       "</table>\n",
       "</div>"
      ],
      "text/plain": [
       "            accuntancy  statistics\n",
       "accuntancy    1.000000    0.903118\n",
       "statistics    0.903118    1.000000"
      ]
     },
     "execution_count": 14,
     "metadata": {},
     "output_type": "execute_result"
    }
   ],
   "source": [
    "df.corr()"
   ]
  },
  {
   "cell_type": "code",
   "execution_count": null,
   "metadata": {},
   "outputs": [],
   "source": [
    "#"
   ]
  }
 ],
 "metadata": {
  "kernelspec": {
   "display_name": "Python 3",
   "language": "python",
   "name": "python3"
  },
  "language_info": {
   "codemirror_mode": {
    "name": "ipython",
    "version": 3
   },
   "file_extension": ".py",
   "mimetype": "text/x-python",
   "name": "python",
   "nbconvert_exporter": "python",
   "pygments_lexer": "ipython3",
   "version": "3.11.4"
  }
 },
 "nbformat": 4,
 "nbformat_minor": 2
}
