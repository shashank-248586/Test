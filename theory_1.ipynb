{
 "cells": [
  {
   "cell_type": "code",
   "execution_count": null,
   "id": "f959ce85-d6b1-4c12-a916-9fe86faccffa",
   "metadata": {},
   "outputs": [
    {
     "data": {
      "text/plain": [
       "['freedom_fighter', 'Mohan', 'dash', 'karam', 'chandra', 'gandhi', 'Bapu']"
      ]
     },
     "execution_count": 1,
     "metadata": {},
     "output_type": "execute_result"
    }
   ],
   "source": [
    "#question 1.3\n",
    "name = [\"Mohan\", \"dash\", \"karam\", \"chandra\",\"gandhi\",\"Bapu\"]\n",
    "name.insert(0,\"freedom_fighter\")\n",
    "name"
   ]
  },
  {
   "cell_type": "code",
   "execution_count": null,
   "id": "aee1483a-be57-47a5-b910-4ed637044571",
   "metadata": {},
   "outputs": [
    {
     "name": "stdout",
     "output_type": "stream",
     "text": [
      "6\n"
     ]
    }
   ],
   "source": [
    "name = [\"freedomFighter\",\"Bapuji\",\"MOhan\" \"dash\", \"karam\", \n",
    "\"chandra\",\"gandhi\"]\n",
    "\n",
    "length1=len((name[-len(name)+1:-1:2]))\n",
    "\n",
    "length2=len((name[-len(name)+1:-1]))\n",
    "\n",
    "print(length1+length2)"
   ]
  },
  {
   "cell_type": "code",
   "execution_count": null,
   "id": "ffda7c72-1228-4587-bf3f-2ae89fdcc1ca",
   "metadata": {},
   "outputs": [],
   "source": [
    "name.append([\"NetaJi\",\"Bose\"] )"
   ]
  },
  {
   "cell_type": "code",
   "execution_count": null,
   "id": "81ecbc6a-8eda-4e7b-8fdd-892e89eef15b",
   "metadata": {},
   "outputs": [
    {
     "data": {
      "text/plain": [
       "['freedomFighter',\n",
       " 'Bapuji',\n",
       " 'MOhandash',\n",
       " 'karam',\n",
       " 'chandra',\n",
       " 'gandhi',\n",
       " ['NetaJi', 'Bose']]"
      ]
     },
     "execution_count": 4,
     "metadata": {},
     "output_type": "execute_result"
    }
   ],
   "source": [
    "name"
   ]
  },
  {
   "cell_type": "code",
   "execution_count": null,
   "id": "8a3b24b8-412e-4b19-a07d-c7e4e486ea40",
   "metadata": {},
   "outputs": [
    {
     "name": "stdout",
     "output_type": "stream",
     "text": [
      "['Mohan', 'dash', 'karam', 'chandra', 'gandi', 'Bapuji']\n"
     ]
    }
   ],
   "source": [
    "name = [\"Bapuji\", \"dash\", \"karam\", \"chandra\",\"gandi\",\"Mohan\"]\n",
    "\n",
    "temp=name[-1]\n",
    "\n",
    "name[-1]=name[0]\n",
    "\n",
    "name[0]=temp\n",
    "\n",
    "print(name)"
   ]
  },
  {
   "cell_type": "code",
   "execution_count": null,
   "id": "e8f64aa0-905b-4b50-b140-9e3ae3021ba3",
   "metadata": {},
   "outputs": [
    {
     "name": "stdout",
     "output_type": "stream",
     "text": [
      "2\n",
      "4\n",
      "7\n"
     ]
    }
   ],
   "source": [
    "#question 1.4\n",
    "animal = ['Human','cat','mat','cat','rat','Human', 'Lion']\n",
    "\n",
    "print(animal.count('Human'))\n",
    "\n",
    "print(animal.index('rat'))\n",
    "\n",
    "print(len(animal))"
   ]
  },
  {
   "cell_type": "code",
   "execution_count": null,
   "id": "2d0b8ac5-65c0-4272-ba17-06048193ab7e",
   "metadata": {},
   "outputs": [],
   "source": [
    "#Question 1.5\n",
    "tuple1=(10,20,\"Apple\",3.4,'a',[\"master\",\"ji\"],(\"sita\",\"geeta\",22),[{\"roll_no\":1},\n",
    "{\"name\":\"Navneet\"}])"
   ]
  },
  {
   "cell_type": "code",
   "execution_count": null,
   "id": "cebdcb73-6ce1-48fa-a7ad-c97c7928be7f",
   "metadata": {},
   "outputs": [
    {
     "name": "stdout",
     "output_type": "stream",
     "text": [
      "8\n",
      "Navneet\n",
      "1\n",
      "ji\n",
      "22\n"
     ]
    }
   ],
   "source": [
    "print(len(tuple1))\n",
    "print(tuple1[-1][-1][\"name\"])\n",
    "print(tuple1[-1][0][\"roll_no\"])\n",
    "print(tuple1[-3][1])\n",
    "print(tuple1[-2][-1])"
   ]
  },
  {
   "cell_type": "code",
   "execution_count": null,
   "id": "abf2a9bf-b891-498c-8ed6-de74e047751f",
   "metadata": {},
   "outputs": [
    {
     "name": "stdout",
     "output_type": "stream",
     "text": [
      "\n",
      "       RED  -> STOP\n",
      "       YELLOW -> STAY\n",
      "       GREEN  -> GO\n",
      "\n"
     ]
    }
   ],
   "source": [
    "#question 1.6\n",
    "print('''\n",
    "       RED  -> STOP\n",
    "       YELLOW -> STAY\n",
    "       GREEN  -> GO\n",
    "''')"
   ]
  },
  {
   "cell_type": "code",
   "execution_count": null,
   "id": "fbd1601c-ebfd-4122-9bec-1b3990749674",
   "metadata": {},
   "outputs": [
    {
     "name": "stdout",
     "output_type": "stream",
     "text": [
      "3 + 5 is 8\n"
     ]
    }
   ],
   "source": [
    "#question 1.7\n",
    "def calculater(a,op,b):\n",
    "    if(op == '+'):\n",
    "        print(f\"{a} {op} {b} is {a+b}\")\n",
    "    elif(op == '-'):\n",
    "        print(f\"{a} {op} {b} is {a-b}\")\n",
    "    elif(op == '*'):\n",
    "        print(f\"{a} {op} {b} is {a*b}\")\n",
    "    else:print(f\"{a} {op} {b} is {a/b}\")\n",
    "\n",
    "calculater(3,\"+\",5)"
   ]
  },
  {
   "cell_type": "code",
   "execution_count": null,
   "id": "a423d080-b4b2-49f8-b48c-55879470a544",
   "metadata": {},
   "outputs": [
    {
     "name": "stdout",
     "output_type": "stream",
     "text": [
      "10\n"
     ]
    }
   ],
   "source": [
    "#question 1.8\n",
    "a = 4\n",
    "b = 10\n",
    "c = 3\n",
    "larger =0\n",
    "if(a>b):\n",
    "    larger = (c,a)[a>c]\n",
    "else:\n",
    "    larger = (c,b)[b>c]\n",
    "print(larger)"
   ]
  },
  {
   "cell_type": "code",
   "execution_count": null,
   "id": "991467fc-f76f-4802-b23f-c5eb97d746ce",
   "metadata": {},
   "outputs": [
    {
     "name": "stdout",
     "output_type": "stream",
     "text": [
      "factors of 15 is  [15, 5, 3, 1]\n"
     ]
    }
   ],
   "source": [
    "#question 1.9\n",
    "def factors(num):\n",
    "    result  = []\n",
    "    i = num\n",
    "    while(i>0):\n",
    "        s = num%i\n",
    "        if(s == 0):result.append(i)\n",
    "        i-=1\n",
    "    return result\n",
    "print(\"factors of 15 is \",factors(15))"
   ]
  },
  {
   "cell_type": "code",
   "execution_count": 13,
   "id": "120d196a-4670-4a18-b476-5cd6dd735a41",
   "metadata": {},
   "outputs": [],
   "source": [
    "#question 1.10\n",
    "def sum():\n",
    "    result=0\n",
    "    while(True):\n",
    "        a = int(input(\"Enter the number\"))\n",
    "        if(a<0):break\n",
    "        else:result+=a\n",
    "    print(\"sum of all nuber is\",result)\n",
    "sum()\n",
    "    "
   ]
  },
  {
   "cell_type": "code",
   "execution_count": null,
   "id": "93d97d12-a8b7-4005-9d6c-3b4e12d767cc",
   "metadata": {},
   "outputs": [],
   "source": [
    "#question 1.11\n",
    "for i in range(2,101):\n",
    "    flag = True\n",
    "    for j in range(2,i):\n",
    "        if(i%j ==0):\n",
    "            flag = False\n",
    "            print(f\"{i} is not prime\")\n",
    "            break\n",
    "    if(flag == True):\n",
    "        print(f\"{i} is a prime number\")"
   ]
  },
  {
   "cell_type": "code",
   "execution_count": null,
   "id": "59df43d2-44b6-4179-b604-5e2ce9bb99e9",
   "metadata": {},
   "outputs": [],
   "source": [
    "#question 1.12\n",
    "n= int(input(\"Enter the no of student\"))\n",
    "subjects= [\"sub1\",\"sub2\",\"sub3\",\"sub4\",\"sub5\"]\n",
    "record ={}\n",
    "for i in range(n):\n",
    "    b  =[]\n",
    "    for j in subjects:\n",
    "        a = int(input(f\"Enter the {i+1} student {j} marks\"))\n",
    "        b.append(a)\n",
    "    record[i+1] = b\n",
    "    "
   ]
  },
  {
   "cell_type": "code",
   "execution_count": null,
   "id": "7ff0d6ec-be9d-4982-ac7e-b8b5d4841a0d",
   "metadata": {},
   "outputs": [],
   "source": [
    "print(record)"
   ]
  },
  {
   "cell_type": "code",
   "execution_count": null,
   "id": "2733babf-204a-4031-a93d-36d6a3adb213",
   "metadata": {},
   "outputs": [],
   "source": [
    "avg_mark =[]\n",
    "for i in range(1,n+1):\n",
    "    sum = 0\n",
    "    for  i in (record[i]):\n",
    "        sum+=i\n",
    "    avg = sum/5\n",
    "    avg_mark.append(avg)\n",
    "    print(avg)"
   ]
  },
  {
   "cell_type": "code",
   "execution_count": null,
   "id": "7187f4b9-21dc-4bb5-b98e-e23e3c15da5c",
   "metadata": {},
   "outputs": [],
   "source": [
    "for i in avg_mark:\n",
    "    if(i>85):print(\"grade A\")\n",
    "    elif(i>75):print(\"grade B\")\n",
    "    elif(i>50):print(\"grade C\")\n",
    "    elif(i>30):print(\"grade D\")\n",
    "    else:print(\"Reappear\")"
   ]
  },
  {
   "cell_type": "code",
   "execution_count": null,
   "id": "3ae75f51-ba46-4374-89a8-423e17d7c2eb",
   "metadata": {},
   "outputs": [
    {
     "name": "stdout",
     "output_type": "stream",
     "text": [
      "\n",
      "          COLOR        WAVELENGTH(nm)\n",
      "          Violet       400.0-440.0\n",
      "          Indigo       440.0-460.0\n",
      "          Blue         460.0-500.0\n",
      "          Green        500.0-570.0\n",
      "          Yellow       570.0-590.0\n",
      "          Orange       590.0-620.0\n",
      "          Red          620.0-720.0\n"
     ]
    }
   ],
   "source": [
    "#question 1.13\n",
    "print('''\n",
    "          COLOR        WAVELENGTH(nm)\n",
    "          Violet       400.0-440.0\n",
    "          Indigo       440.0-460.0\n",
    "          Blue         460.0-500.0\n",
    "          Green        500.0-570.0\n",
    "          Yellow       570.0-590.0\n",
    "          Orange       590.0-620.0\n",
    "          Red          620.0-720.0''')"
   ]
  },
  {
   "cell_type": "code",
   "execution_count": null,
   "id": "eaec50a6-da75-4708-a39c-608ed43ef44a",
   "metadata": {},
   "outputs": [],
   "source": [
    "#question 1.14\n",
    "mass_earth = 5.972e24  # Mass of Earth in kilograms\n",
    "\n",
    "mass_moon = 7.3477309e22  # Mass of Moon in kilograms\n",
    "\n",
    "mass_sun = 1.989e30  # Mass of Sun in kilograms\n",
    "\n",
    "\n",
    "distance_earth_sun = 1.496e11  # Average distance between Earth and Sun in meters\n",
    "\n",
    "distance_moon_earth = 3.844e8  # Average distance between Moon and Earth in meters\n",
    "g = 6.6743e-11"
   ]
  },
  {
   "cell_type": "code",
   "execution_count": null,
   "id": "44ff7641-acfb-42da-b2fd-05f351ad41d0",
   "metadata": {},
   "outputs": [
    {
     "name": "stdout",
     "output_type": "stream",
     "text": [
      "3.5423960813684973e+22\n"
     ]
    }
   ],
   "source": [
    "forse_earth_sun = g*mass_earth*mass_sun/distance_earth_sun ** 2\n",
    "print(forse_earth_sun)"
   ]
  },
  {
   "cell_type": "code",
   "execution_count": null,
   "id": "59930f34-5e5b-4e59-ab8f-39595c9ea76f",
   "metadata": {},
   "outputs": [
    {
     "name": "stdout",
     "output_type": "stream",
     "text": [
      "1.9820381398036398e+20\n"
     ]
    }
   ],
   "source": [
    "forse_moon_earth = g*mass_moon*mass_earth/distance_moon_earth**2\n",
    "print(forse_moon_earth)"
   ]
  },
  {
   "cell_type": "code",
   "execution_count": null,
   "id": "af15c75b-9dd9-4d88-9bb4-319c020fd637",
   "metadata": {},
   "outputs": [
    {
     "name": "stdout",
     "output_type": "stream",
     "text": [
      "forse between earth and sun is strong\n"
     ]
    }
   ],
   "source": [
    "if(forse_earth_sun > forse_moon_earth):print(\"forse between earth and sun is strong\")\n",
    "else:print(\"forse between moon and earth is strong\")"
   ]
  },
  {
   "cell_type": "code",
   "execution_count": null,
   "id": "703ec67e-5034-47c0-9cd2-466f962c959a",
   "metadata": {},
   "outputs": [],
   "source": [
    "#question 1.15\n",
    "class Student:\n",
    "    def __init__(self,name,age,roll):\n",
    "        self.__name = name\n",
    "        self.__age = age\n",
    "        self.__roll = roll\n",
    "    def set_age(self,age):\n",
    "        self.__age =age\n",
    "    def get_age(self):\n",
    "        return self.__age\n",
    "    def set_roll(self,roll):\n",
    "        self.__roll = roll\n",
    "    def get_roll(self):\n",
    "        return self.__roll\n",
    "    def details(self):\n",
    "        print(f\"name is {self.__name}\\nroll is {self.__roll}\\nage is {self.__age}\")"
   ]
  },
  {
   "cell_type": "code",
   "execution_count": null,
   "id": "b7d35e0a-80f0-44ce-97df-84544b781469",
   "metadata": {},
   "outputs": [],
   "source": [
    "a = Student(\"rahuk\",12,300)"
   ]
  },
  {
   "cell_type": "code",
   "execution_count": null,
   "id": "c59b0abd-24ed-4a79-a84b-400d922829a2",
   "metadata": {},
   "outputs": [],
   "source": [
    "a.set_age(32)"
   ]
  },
  {
   "cell_type": "code",
   "execution_count": null,
   "id": "3e89c9cd-a30d-46c7-ad1c-0daa0f8ab2de",
   "metadata": {},
   "outputs": [
    {
     "data": {
      "text/plain": [
       "32"
      ]
     },
     "execution_count": 65,
     "metadata": {},
     "output_type": "execute_result"
    }
   ],
   "source": [
    "a.get_age()"
   ]
  },
  {
   "cell_type": "code",
   "execution_count": null,
   "id": "54446948-e689-49b2-95f5-f9cf046460c4",
   "metadata": {},
   "outputs": [
    {
     "data": {
      "text/plain": [
       "302"
      ]
     },
     "execution_count": 67,
     "metadata": {},
     "output_type": "execute_result"
    }
   ],
   "source": [
    "a.set_roll(302)\n",
    "a.get_roll()"
   ]
  },
  {
   "cell_type": "code",
   "execution_count": null,
   "id": "8518050d-a970-423b-8893-060d6c983a76",
   "metadata": {},
   "outputs": [
    {
     "name": "stdout",
     "output_type": "stream",
     "text": [
      "name is rahuk\n",
      "roll is 302\n",
      "age is 32\n"
     ]
    }
   ],
   "source": [
    "a.details()"
   ]
  },
  {
   "cell_type": "code",
   "execution_count": null,
   "id": "836274b7-3019-4281-b7a3-61b775ede0d3",
   "metadata": {},
   "outputs": [],
   "source": [
    "#question 3\n",
    "class LibraryBook:\n",
    "    def __init__(self,book_name,author,availability):\n",
    "        self.__book_name = book_name\n",
    "        self.__author = author\n",
    "        self.__availability  = availability\n",
    "    def borrow(self):\n",
    "        if(self.__availability == False):\n",
    "            print(\"Book is not avilable\")\n",
    "            pass\n",
    "        else:\n",
    "            self.__availability = False\n",
    "    def returning(self):\n",
    "        self.__availability = True\n",
    "    "
   ]
  },
  {
   "cell_type": "code",
   "execution_count": null,
   "id": "c5bfd5f1-6078-479d-9532-12f4ab9669f8",
   "metadata": {},
   "outputs": [],
   "source": [
    "a = LibraryBook(\"Physical world\",\"R.K.Narayan\",True)"
   ]
  },
  {
   "cell_type": "code",
   "execution_count": null,
   "id": "8c5b450b-b84f-47f5-82ef-3b0ac19018af",
   "metadata": {},
   "outputs": [],
   "source": [
    "a.borrow()"
   ]
  },
  {
   "cell_type": "code",
   "execution_count": null,
   "id": "3287e028-a613-446c-b430-0516280a8987",
   "metadata": {},
   "outputs": [],
   "source": [
    "a.returning()"
   ]
  },
  {
   "cell_type": "code",
   "execution_count": null,
   "id": "c67fb605-8f64-468f-8983-8f481cfd4814",
   "metadata": {},
   "outputs": [],
   "source": [
    "#question 4\n",
    "class Bankaccount:\n",
    "    def __init__(self,name,balance):\n",
    "        self._name = name\n",
    "        self._balance = balance\n",
    "    def add_balance(self,amount):\n",
    "        self._balance+= amount\n",
    "        print(f\"{amount} is added succesfully\")\n",
    "    def remove_balance(self,amount):\n",
    "        if(amount>self._balance):print(f\"enterd amount {amount} not in account\")\n",
    "        else:\n",
    "            self._balance-=amount\n",
    "            print(f\"amount {amount} credited successfuly\\nThe avilable balance is {self._balance}\")\n",
    "    def inquiry(self):\n",
    "        print(f\"The avilable balance is {self._balance}\")\n",
    "        "
   ]
  },
  {
   "cell_type": "code",
   "execution_count": null,
   "id": "8801eb0c-cae6-41e7-8b8c-5ccfcf72baec",
   "metadata": {},
   "outputs": [],
   "source": [
    "class SavingsAccount(Bankaccount):\n",
    "    def __init__(self,name,amount):\n",
    "        super().__init__(name,amount)\n",
    "        self._name = name\n",
    "        self._balance = amount\n",
    "    def deposit(self,amount):\n",
    "        self.add_balance(amount)\n",
    "    def withdrow(self,amount):\n",
    "        self.remove_balance(amount)\n",
    "    def balance_inquiry(self):\n",
    "        self.inquiry()\n",
    "\n",
    "\n",
    "class CheckingAccount(Bankaccount):\n",
    "    def __init__(self,name,amount):\n",
    "        super().__init__(name,amount)\n",
    "        self._name = name\n",
    "        self._balance = amount\n",
    "    def deposit(self,amount):\n",
    "        self.add_balance(amount)\n",
    "    def withdrow(self,amount):\n",
    "        self.remove_balance(amount)\n",
    "    def balance_inquiry(self):\n",
    "        self.inquiry()\n",
    "    "
   ]
  },
  {
   "cell_type": "code",
   "execution_count": null,
   "id": "4dac48d3-1bec-4e59-9811-d5c0246e2730",
   "metadata": {},
   "outputs": [],
   "source": [
    "a = SavingsAccount(\"gaura\",400)"
   ]
  },
  {
   "cell_type": "code",
   "execution_count": null,
   "id": "20dfe8b1-541d-475d-a82e-678b9ea6d837",
   "metadata": {},
   "outputs": [
    {
     "name": "stdout",
     "output_type": "stream",
     "text": [
      "200 is added succesfully\n"
     ]
    }
   ],
   "source": [
    "a.add_balance(200)"
   ]
  },
  {
   "cell_type": "code",
   "execution_count": null,
   "id": "e3a66f0d-8ccd-44f4-91be-93bb66fcbf65",
   "metadata": {},
   "outputs": [
    {
     "name": "stdout",
     "output_type": "stream",
     "text": [
      "amount 200 credited successfuly\n",
      "The avilable balance is 400\n"
     ]
    }
   ],
   "source": [
    "a.withdrow(200)"
   ]
  },
  {
   "cell_type": "code",
   "execution_count": null,
   "id": "0434f38c-bfe3-42b1-b155-58b189b28ddf",
   "metadata": {},
   "outputs": [
    {
     "name": "stdout",
     "output_type": "stream",
     "text": [
      "The avilable balance is 400\n"
     ]
    }
   ],
   "source": [
    "a.balance_inquiry()"
   ]
  },
  {
   "cell_type": "code",
   "execution_count": null,
   "id": "37ca2d71-3d68-49e8-9ed0-9037fc1419bc",
   "metadata": {},
   "outputs": [],
   "source": [
    "b =CheckingAccount(\"asdfg\",1000)\n"
   ]
  },
  {
   "cell_type": "code",
   "execution_count": null,
   "id": "ff8489dd-c168-47df-b263-bf2eaa88b5a0",
   "metadata": {},
   "outputs": [],
   "source": [
    "#question 5\n",
    "class Animal:\n",
    "    def make_sound():\n",
    "        print(\"Animals have sounts\")\n",
    "\n",
    "class Dog(Animal):\n",
    "    def make_sound(self):\n",
    "        print(\"dogs are barking voo voo\")\n",
    "        pass\n",
    "\n",
    "class Cat(Animal):\n",
    "    def make_sound(self):\n",
    "        print(\"cats sounts meow\")\n",
    "        pass"
   ]
  },
  {
   "cell_type": "code",
   "execution_count": null,
   "id": "582d981c-11f9-4dd6-9945-594d0216b91f",
   "metadata": {},
   "outputs": [],
   "source": [
    "dog = Dog()"
   ]
  },
  {
   "cell_type": "code",
   "execution_count": null,
   "id": "2f3d5787-891c-4551-8c70-5806f4a5b49b",
   "metadata": {},
   "outputs": [
    {
     "name": "stdout",
     "output_type": "stream",
     "text": [
      "dogs are barking voo voo\n"
     ]
    }
   ],
   "source": [
    "dog.make_sound()"
   ]
  },
  {
   "cell_type": "code",
   "execution_count": null,
   "id": "8c09dceb-c838-4a97-a920-06391e4b207b",
   "metadata": {},
   "outputs": [],
   "source": [
    "cat = Cat()"
   ]
  },
  {
   "cell_type": "code",
   "execution_count": null,
   "id": "2969250e-a938-4ad4-a633-b62731eac0b5",
   "metadata": {},
   "outputs": [
    {
     "name": "stdout",
     "output_type": "stream",
     "text": [
      "cats sounts meow\n"
     ]
    }
   ],
   "source": [
    "cat.make_sound()"
   ]
  },
  {
   "cell_type": "code",
   "execution_count": null,
   "id": "b6958d6b-cb02-487f-8ef3-88bfc6b5e37f",
   "metadata": {},
   "outputs": [],
   "source": [
    "#question 6"
   ]
  },
  {
   "cell_type": "code",
   "execution_count": null,
   "id": "2b217230-af4f-4986-8db4-49458d8f2a62",
   "metadata": {},
   "outputs": [],
   "source": [
    "class Menuitem:\n",
    "    def __init__(self,name,description,category):\n",
    "        self._name = name\n",
    "        self._description = description\n",
    "        self._category = category\n",
    "    def info(self):\n",
    "        print(f'''\n",
    "            Name :- {self._name}\n",
    "            Description :- {self._description}\n",
    "            Category :- {self._category}''')\n",
    "    def set_name(self,name):\n",
    "        self._name=name\n",
    "    def set_description(self,val):\n",
    "        self._description = val\n",
    "    def set_category(self,val):\n",
    "        self._category  = val"
   ]
  },
  {
   "cell_type": "code",
   "execution_count": null,
   "id": "64499ca1-632c-4f35-87db-20a2525daa50",
   "metadata": {},
   "outputs": [],
   "source": [
    "class Fooditem(Menuitem):\n",
    "    def __init__(self,name,description,category):\n",
    "        super().__init__(self,description,category)\n",
    "        self._name = name\n",
    "        self._description = description\n",
    "        self._category = category"
   ]
  },
  {
   "cell_type": "code",
   "execution_count": null,
   "id": "67c943fe-7c77-4f09-b34c-237ede377050",
   "metadata": {},
   "outputs": [],
   "source": [
    "ob = Fooditem(\"cocacola\",\"coldrinks\",\"drinken_item\")"
   ]
  },
  {
   "cell_type": "code",
   "execution_count": null,
   "id": "0a8da754-3187-443c-8312-51942611ddac",
   "metadata": {},
   "outputs": [
    {
     "name": "stdout",
     "output_type": "stream",
     "text": [
      "\n",
      "            Name :- cocacola\n",
      "            Description :- coldrinks\n",
      "            Category :- drinken_item\n"
     ]
    }
   ],
   "source": [
    "ob.info()"
   ]
  },
  {
   "cell_type": "code",
   "execution_count": null,
   "id": "7e71e3d2-78ad-4528-b3a5-f988fe088931",
   "metadata": {},
   "outputs": [],
   "source": [
    "class Beverageitem(Menuitem):\n",
    "    def __init__(self,name,description,category):\n",
    "        super().__init__(self,description,category)\n",
    "        self._name = name\n",
    "        self._description = description\n",
    "        self._category = category"
   ]
  },
  {
   "cell_type": "code",
   "execution_count": null,
   "id": "cca6afa8-f521-4677-9e4e-32e8b1da77f6",
   "metadata": {},
   "outputs": [],
   "source": [
    "ob1 = Beverageitem(\"manchurian\",\"stater\",\"chinise\")"
   ]
  },
  {
   "cell_type": "code",
   "execution_count": null,
   "id": "563a822f-8f2c-4014-82e3-082a752b7dee",
   "metadata": {},
   "outputs": [
    {
     "name": "stdout",
     "output_type": "stream",
     "text": [
      "\n",
      "            Name :- manchurian\n",
      "            Description :- stater\n",
      "            Category :- chinise\n"
     ]
    }
   ],
   "source": [
    "ob1.info()"
   ]
  }
 ],
 "metadata": {
  "kernelspec": {
   "display_name": "Python 3 (ipykernel)",
   "language": "python",
   "name": "python3"
  },
  "language_info": {
   "codemirror_mode": {
    "name": "ipython",
    "version": 3
   },
   "file_extension": ".py",
   "mimetype": "text/x-python",
   "name": "python",
   "nbconvert_exporter": "python",
   "pygments_lexer": "ipython3",
   "version": "3.11.4"
  }
 },
 "nbformat": 4,
 "nbformat_minor": 5
}
